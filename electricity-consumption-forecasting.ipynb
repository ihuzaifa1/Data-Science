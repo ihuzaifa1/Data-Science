{
 "cells": [
  {
   "cell_type": "code",
   "execution_count": 1,
   "id": "268a67df",
   "metadata": {
    "_cell_guid": "b1076dfc-b9ad-4769-8c92-a6c4dae69d19",
    "_uuid": "8f2839f25d086af736a60e9eeb907d3b93b6e0e5",
    "execution": {
     "iopub.execute_input": "2024-11-23T17:42:16.872188Z",
     "iopub.status.busy": "2024-11-23T17:42:16.871762Z",
     "iopub.status.idle": "2024-11-23T17:42:19.203046Z",
     "shell.execute_reply": "2024-11-23T17:42:19.201835Z"
    },
    "papermill": {
     "duration": 2.339268,
     "end_time": "2024-11-23T17:42:19.205567",
     "exception": false,
     "start_time": "2024-11-23T17:42:16.866299",
     "status": "completed"
    },
    "tags": []
   },
   "outputs": [
    {
     "name": "stdout",
     "output_type": "stream",
     "text": [
      "/kaggle/input/240000-household-electricity-consumption-records/household_power_consumption.csv\n"
     ]
    }
   ],
   "source": [
    "# This Python 3 environment comes with many helpful analytics libraries installed\n",
    "# It is defined by the kaggle/python Docker image: https://github.com/kaggle/docker-python\n",
    "# For example, here's several helpful packages to load\n",
    "\n",
    "import numpy as np # linear algebra\n",
    "import pandas as pd# data processing, CSV file I/O (e.g. pd.read_csv)\n",
    "from sklearn.preprocessing import MinMaxScaler\n",
    "from sklearn.model_selection import train_test_split\n",
    "# Input data files are available in the read-only \"../input/\" directory\n",
    "# For example, running this (by clicking run or pressing Shift+Enter) will list all files under the input directory\n",
    "\n",
    "import os\n",
    "for dirname, _, filenames in os.walk('/kaggle/input'):\n",
    "    for filename in filenames:\n",
    "        print(os.path.join(dirname, filename))\n",
    "\n",
    "# You can write up to 20GB to the current directory (/kaggle/working/) that gets preserved as output when you create a version using \"Save & Run All\" \n",
    "# You can also write temporary files to /kaggle/temp/, but they won't be saved outside of the current session"
   ]
  },
  {
   "cell_type": "code",
   "execution_count": 2,
   "id": "d10d999d",
   "metadata": {
    "execution": {
     "iopub.execute_input": "2024-11-23T17:42:19.214013Z",
     "iopub.status.busy": "2024-11-23T17:42:19.213479Z",
     "iopub.status.idle": "2024-11-23T17:42:19.738284Z",
     "shell.execute_reply": "2024-11-23T17:42:19.737134Z"
    },
    "papermill": {
     "duration": 0.532109,
     "end_time": "2024-11-23T17:42:19.741143",
     "exception": false,
     "start_time": "2024-11-23T17:42:19.209034",
     "status": "completed"
    },
    "tags": []
   },
   "outputs": [],
   "source": [
    "data = pd.read_csv('/kaggle/input/240000-household-electricity-consumption-records/household_power_consumption.csv')"
   ]
  },
  {
   "cell_type": "code",
   "execution_count": 3,
   "id": "2e422089",
   "metadata": {
    "execution": {
     "iopub.execute_input": "2024-11-23T17:42:19.749675Z",
     "iopub.status.busy": "2024-11-23T17:42:19.749243Z",
     "iopub.status.idle": "2024-11-23T17:42:19.773072Z",
     "shell.execute_reply": "2024-11-23T17:42:19.772029Z"
    },
    "papermill": {
     "duration": 0.030831,
     "end_time": "2024-11-23T17:42:19.775474",
     "exception": false,
     "start_time": "2024-11-23T17:42:19.744643",
     "status": "completed"
    },
    "tags": []
   },
   "outputs": [
    {
     "data": {
      "text/html": [
       "<div>\n",
       "<style scoped>\n",
       "    .dataframe tbody tr th:only-of-type {\n",
       "        vertical-align: middle;\n",
       "    }\n",
       "\n",
       "    .dataframe tbody tr th {\n",
       "        vertical-align: top;\n",
       "    }\n",
       "\n",
       "    .dataframe thead th {\n",
       "        text-align: right;\n",
       "    }\n",
       "</style>\n",
       "<table border=\"1\" class=\"dataframe\">\n",
       "  <thead>\n",
       "    <tr style=\"text-align: right;\">\n",
       "      <th></th>\n",
       "      <th>index</th>\n",
       "      <th>Date</th>\n",
       "      <th>Time</th>\n",
       "      <th>Global_active_power</th>\n",
       "      <th>Global_reactive_power</th>\n",
       "      <th>Voltage</th>\n",
       "      <th>Global_intensity</th>\n",
       "      <th>Sub_metering_1</th>\n",
       "      <th>Sub_metering_2</th>\n",
       "      <th>Sub_metering_3</th>\n",
       "    </tr>\n",
       "  </thead>\n",
       "  <tbody>\n",
       "    <tr>\n",
       "      <th>0</th>\n",
       "      <td>0</td>\n",
       "      <td>1/1/07</td>\n",
       "      <td>0:00:00</td>\n",
       "      <td>2.58</td>\n",
       "      <td>0.136</td>\n",
       "      <td>241.97</td>\n",
       "      <td>10.6</td>\n",
       "      <td>0</td>\n",
       "      <td>0</td>\n",
       "      <td>0.0</td>\n",
       "    </tr>\n",
       "    <tr>\n",
       "      <th>1</th>\n",
       "      <td>1</td>\n",
       "      <td>1/1/07</td>\n",
       "      <td>0:01:00</td>\n",
       "      <td>2.552</td>\n",
       "      <td>0.1</td>\n",
       "      <td>241.75</td>\n",
       "      <td>10.4</td>\n",
       "      <td>0</td>\n",
       "      <td>0</td>\n",
       "      <td>0.0</td>\n",
       "    </tr>\n",
       "    <tr>\n",
       "      <th>2</th>\n",
       "      <td>2</td>\n",
       "      <td>1/1/07</td>\n",
       "      <td>0:02:00</td>\n",
       "      <td>2.55</td>\n",
       "      <td>0.1</td>\n",
       "      <td>241.64</td>\n",
       "      <td>10.4</td>\n",
       "      <td>0</td>\n",
       "      <td>0</td>\n",
       "      <td>0.0</td>\n",
       "    </tr>\n",
       "    <tr>\n",
       "      <th>3</th>\n",
       "      <td>3</td>\n",
       "      <td>1/1/07</td>\n",
       "      <td>0:03:00</td>\n",
       "      <td>2.55</td>\n",
       "      <td>0.1</td>\n",
       "      <td>241.71</td>\n",
       "      <td>10.4</td>\n",
       "      <td>0</td>\n",
       "      <td>0</td>\n",
       "      <td>0.0</td>\n",
       "    </tr>\n",
       "    <tr>\n",
       "      <th>4</th>\n",
       "      <td>4</td>\n",
       "      <td>1/1/07</td>\n",
       "      <td>0:04:00</td>\n",
       "      <td>2.554</td>\n",
       "      <td>0.1</td>\n",
       "      <td>241.98</td>\n",
       "      <td>10.4</td>\n",
       "      <td>0</td>\n",
       "      <td>0</td>\n",
       "      <td>0.0</td>\n",
       "    </tr>\n",
       "  </tbody>\n",
       "</table>\n",
       "</div>"
      ],
      "text/plain": [
       "   index    Date     Time Global_active_power Global_reactive_power Voltage  \\\n",
       "0      0  1/1/07  0:00:00                2.58                 0.136  241.97   \n",
       "1      1  1/1/07  0:01:00               2.552                   0.1  241.75   \n",
       "2      2  1/1/07  0:02:00                2.55                   0.1  241.64   \n",
       "3      3  1/1/07  0:03:00                2.55                   0.1  241.71   \n",
       "4      4  1/1/07  0:04:00               2.554                   0.1  241.98   \n",
       "\n",
       "  Global_intensity Sub_metering_1 Sub_metering_2  Sub_metering_3  \n",
       "0             10.6              0              0             0.0  \n",
       "1             10.4              0              0             0.0  \n",
       "2             10.4              0              0             0.0  \n",
       "3             10.4              0              0             0.0  \n",
       "4             10.4              0              0             0.0  "
      ]
     },
     "execution_count": 3,
     "metadata": {},
     "output_type": "execute_result"
    }
   ],
   "source": [
    "data.head()"
   ]
  },
  {
   "cell_type": "code",
   "execution_count": 4,
   "id": "2d384a27",
   "metadata": {
    "execution": {
     "iopub.execute_input": "2024-11-23T17:42:19.784169Z",
     "iopub.status.busy": "2024-11-23T17:42:19.783754Z",
     "iopub.status.idle": "2024-11-23T17:42:20.225830Z",
     "shell.execute_reply": "2024-11-23T17:42:20.224544Z"
    },
    "papermill": {
     "duration": 0.449191,
     "end_time": "2024-11-23T17:42:20.228256",
     "exception": false,
     "start_time": "2024-11-23T17:42:19.779065",
     "status": "completed"
    },
    "tags": []
   },
   "outputs": [
    {
     "name": "stderr",
     "output_type": "stream",
     "text": [
      "/tmp/ipykernel_17/1640542614.py:1: UserWarning: Could not infer format, so each element will be parsed individually, falling back to `dateutil`. To ensure parsing is consistent and as-expected, please specify a format.\n",
      "  data = pd.read_csv('/kaggle/input/240000-household-electricity-consumption-records/household_power_consumption.csv', parse_dates=['Date'], index_col='Date')\n"
     ]
    }
   ],
   "source": [
    "data = pd.read_csv('/kaggle/input/240000-household-electricity-consumption-records/household_power_consumption.csv', parse_dates=['Date'], index_col='Date')\n",
    "data['Global_active_power'] = data['Global_active_power'].replace('?',np.nan)\n",
    "\n",
    "data['Global_active_power'] = data['Global_active_power'].astype('float')\n",
    "data = data.dropna(subset = ['Global_active_power'])\n",
    "data = data['Global_active_power'].values.reshape(-1,1)\n",
    "\n",
    "scalar = MinMaxScaler()\n",
    "scaled_data = scalar.fit_transform(data)"
   ]
  },
  {
   "cell_type": "code",
   "execution_count": 5,
   "id": "96247348",
   "metadata": {
    "execution": {
     "iopub.execute_input": "2024-11-23T17:42:20.237051Z",
     "iopub.status.busy": "2024-11-23T17:42:20.236612Z",
     "iopub.status.idle": "2024-11-23T17:42:20.708638Z",
     "shell.execute_reply": "2024-11-23T17:42:20.707618Z"
    },
    "papermill": {
     "duration": 0.479217,
     "end_time": "2024-11-23T17:42:20.711066",
     "exception": false,
     "start_time": "2024-11-23T17:42:20.231849",
     "status": "completed"
    },
    "tags": []
   },
   "outputs": [],
   "source": [
    "def sequence_data(data,seq_length):\n",
    "    x,y = [],[]\n",
    "    for i in range(len(data) - seq_length):\n",
    "        x.append(data[i:i+seq_length])\n",
    "        y.append(data[i+seq_length])\n",
    "    return np.array(x),np.array(y)\n",
    "\n",
    "seq_length = 24\n",
    "X,y = sequence_data(scaled_data,seq_length)\n",
    "        "
   ]
  },
  {
   "cell_type": "code",
   "execution_count": 6,
   "id": "5a346c8d",
   "metadata": {
    "execution": {
     "iopub.execute_input": "2024-11-23T17:42:20.720048Z",
     "iopub.status.busy": "2024-11-23T17:42:20.719614Z",
     "iopub.status.idle": "2024-11-23T17:42:20.766918Z",
     "shell.execute_reply": "2024-11-23T17:42:20.765973Z"
    },
    "papermill": {
     "duration": 0.054349,
     "end_time": "2024-11-23T17:42:20.769167",
     "exception": false,
     "start_time": "2024-11-23T17:42:20.714818",
     "status": "completed"
    },
    "tags": []
   },
   "outputs": [],
   "source": [
    "X_train,X_test,y_train,y_test = train_test_split(X,y,test_size=0.2,random_state=42)"
   ]
  },
  {
   "cell_type": "code",
   "execution_count": 7,
   "id": "ae45854d",
   "metadata": {
    "execution": {
     "iopub.execute_input": "2024-11-23T17:42:20.778050Z",
     "iopub.status.busy": "2024-11-23T17:42:20.777632Z",
     "iopub.status.idle": "2024-11-23T17:42:34.411334Z",
     "shell.execute_reply": "2024-11-23T17:42:34.410255Z"
    },
    "papermill": {
     "duration": 13.641284,
     "end_time": "2024-11-23T17:42:34.414009",
     "exception": false,
     "start_time": "2024-11-23T17:42:20.772725",
     "status": "completed"
    },
    "tags": []
   },
   "outputs": [],
   "source": [
    "from tensorflow.keras.models import Sequential\n",
    "from tensorflow.keras.layers import Conv1D,Flatten,Dense"
   ]
  },
  {
   "cell_type": "code",
   "execution_count": 8,
   "id": "4a58a5c6",
   "metadata": {
    "execution": {
     "iopub.execute_input": "2024-11-23T17:42:34.422992Z",
     "iopub.status.busy": "2024-11-23T17:42:34.422325Z",
     "iopub.status.idle": "2024-11-23T17:42:34.530048Z",
     "shell.execute_reply": "2024-11-23T17:42:34.528921Z"
    },
    "papermill": {
     "duration": 0.114948,
     "end_time": "2024-11-23T17:42:34.532659",
     "exception": false,
     "start_time": "2024-11-23T17:42:34.417711",
     "status": "completed"
    },
    "tags": []
   },
   "outputs": [
    {
     "name": "stderr",
     "output_type": "stream",
     "text": [
      "/opt/conda/lib/python3.10/site-packages/keras/src/layers/convolutional/base_conv.py:107: UserWarning: Do not pass an `input_shape`/`input_dim` argument to a layer. When using Sequential models, prefer using an `Input(shape)` object as the first layer in the model instead.\n",
      "  super().__init__(activity_regularizer=activity_regularizer, **kwargs)\n"
     ]
    }
   ],
   "source": [
    "model = Sequential([\n",
    "    Conv1D(64,kernel_size = 3,activation = 'relu',input_shape =(seq_length,1)),\n",
    "    Conv1D(32,kernel_size = 3,activation = 'relu'),\n",
    "\n",
    "    Flatten(),\n",
    "    Dense(32,activation = 'relu'),\n",
    "    Dense(1)\n",
    "])\n",
    "\n",
    "model.compile(optimizer ='adam', loss = 'mse',metrics = ['Accuracy'])"
   ]
  },
  {
   "cell_type": "code",
   "execution_count": 9,
   "id": "faae5f69",
   "metadata": {
    "execution": {
     "iopub.execute_input": "2024-11-23T17:42:34.541915Z",
     "iopub.status.busy": "2024-11-23T17:42:34.541501Z",
     "iopub.status.idle": "2024-11-23T17:45:59.668072Z",
     "shell.execute_reply": "2024-11-23T17:45:59.666825Z"
    },
    "papermill": {
     "duration": 205.133778,
     "end_time": "2024-11-23T17:45:59.670308",
     "exception": false,
     "start_time": "2024-11-23T17:42:34.536530",
     "status": "completed"
    },
    "tags": []
   },
   "outputs": [
    {
     "name": "stdout",
     "output_type": "stream",
     "text": [
      "Epoch 1/10\n",
      "\u001b[1m6422/6422\u001b[0m \u001b[32m━━━━━━━━━━━━━━━━━━━━\u001b[0m\u001b[37m\u001b[0m \u001b[1m22s\u001b[0m 3ms/step - Accuracy: 0.0000e+00 - loss: 0.0013 - val_Accuracy: 1.9467e-05 - val_loss: 7.8368e-04\n",
      "Epoch 2/10\n",
      "\u001b[1m6422/6422\u001b[0m \u001b[32m━━━━━━━━━━━━━━━━━━━━\u001b[0m\u001b[37m\u001b[0m \u001b[1m20s\u001b[0m 3ms/step - Accuracy: 2.5753e-06 - loss: 8.4254e-04 - val_Accuracy: 1.9467e-05 - val_loss: 8.5075e-04\n",
      "Epoch 3/10\n",
      "\u001b[1m6422/6422\u001b[0m \u001b[32m━━━━━━━━━━━━━━━━━━━━\u001b[0m\u001b[37m\u001b[0m \u001b[1m20s\u001b[0m 3ms/step - Accuracy: 3.7950e-07 - loss: 8.0821e-04 - val_Accuracy: 1.9467e-05 - val_loss: 7.8652e-04\n",
      "Epoch 4/10\n",
      "\u001b[1m6422/6422\u001b[0m \u001b[32m━━━━━━━━━━━━━━━━━━━━\u001b[0m\u001b[37m\u001b[0m \u001b[1m21s\u001b[0m 3ms/step - Accuracy: 1.3656e-06 - loss: 7.8102e-04 - val_Accuracy: 1.9467e-05 - val_loss: 7.6305e-04\n",
      "Epoch 5/10\n",
      "\u001b[1m6422/6422\u001b[0m \u001b[32m━━━━━━━━━━━━━━━━━━━━\u001b[0m\u001b[37m\u001b[0m \u001b[1m20s\u001b[0m 3ms/step - Accuracy: 6.3252e-06 - loss: 7.6079e-04 - val_Accuracy: 1.9467e-05 - val_loss: 7.1183e-04\n",
      "Epoch 6/10\n",
      "\u001b[1m6422/6422\u001b[0m \u001b[32m━━━━━━━━━━━━━━━━━━━━\u001b[0m\u001b[37m\u001b[0m \u001b[1m20s\u001b[0m 3ms/step - Accuracy: 1.1287e-06 - loss: 7.5391e-04 - val_Accuracy: 1.9467e-05 - val_loss: 7.4167e-04\n",
      "Epoch 7/10\n",
      "\u001b[1m6422/6422\u001b[0m \u001b[32m━━━━━━━━━━━━━━━━━━━━\u001b[0m\u001b[37m\u001b[0m \u001b[1m20s\u001b[0m 3ms/step - Accuracy: 7.9734e-06 - loss: 7.5220e-04 - val_Accuracy: 1.9467e-05 - val_loss: 7.4003e-04\n",
      "Epoch 8/10\n",
      "\u001b[1m6422/6422\u001b[0m \u001b[32m━━━━━━━━━━━━━━━━━━━━\u001b[0m\u001b[37m\u001b[0m \u001b[1m21s\u001b[0m 3ms/step - Accuracy: 4.7626e-06 - loss: 7.3182e-04 - val_Accuracy: 1.9467e-05 - val_loss: 7.1362e-04\n",
      "Epoch 9/10\n",
      "\u001b[1m6422/6422\u001b[0m \u001b[32m━━━━━━━━━━━━━━━━━━━━\u001b[0m\u001b[37m\u001b[0m \u001b[1m21s\u001b[0m 3ms/step - Accuracy: 1.3738e-05 - loss: 7.2895e-04 - val_Accuracy: 1.9467e-05 - val_loss: 7.3221e-04\n",
      "Epoch 10/10\n",
      "\u001b[1m6422/6422\u001b[0m \u001b[32m━━━━━━━━━━━━━━━━━━━━\u001b[0m\u001b[37m\u001b[0m \u001b[1m21s\u001b[0m 3ms/step - Accuracy: 3.0334e-06 - loss: 7.0894e-04 - val_Accuracy: 1.9467e-05 - val_loss: 7.4151e-04\n"
     ]
    },
    {
     "data": {
      "text/plain": [
       "<keras.src.callbacks.history.History at 0x785bd1f33ac0>"
      ]
     },
     "execution_count": 9,
     "metadata": {},
     "output_type": "execute_result"
    }
   ],
   "source": [
    "model.fit(X_train,y_train,epochs = 10, batch_size = 32,validation_data = (X_test,y_test))"
   ]
  },
  {
   "cell_type": "code",
   "execution_count": 10,
   "id": "c5ebcea4",
   "metadata": {
    "execution": {
     "iopub.execute_input": "2024-11-23T17:46:00.135356Z",
     "iopub.status.busy": "2024-11-23T17:46:00.134917Z",
     "iopub.status.idle": "2024-11-23T17:46:03.677144Z",
     "shell.execute_reply": "2024-11-23T17:46:03.675972Z"
    },
    "papermill": {
     "duration": 3.750164,
     "end_time": "2024-11-23T17:46:03.679330",
     "exception": false,
     "start_time": "2024-11-23T17:45:59.929166",
     "status": "completed"
    },
    "tags": []
   },
   "outputs": [
    {
     "name": "stdout",
     "output_type": "stream",
     "text": [
      "\u001b[1m1606/1606\u001b[0m \u001b[32m━━━━━━━━━━━━━━━━━━━━\u001b[0m\u001b[37m\u001b[0m \u001b[1m3s\u001b[0m 2ms/step\n",
      "MAE: 0.011496372098248806\n"
     ]
    }
   ],
   "source": [
    "from sklearn.metrics import mean_absolute_error\n",
    "y_pred = model.predict(X_test)\n",
    "print(\"MAE:\", mean_absolute_error(y_test, y_pred))\n"
   ]
  },
  {
   "cell_type": "code",
   "execution_count": 11,
   "id": "94916b5f",
   "metadata": {
    "execution": {
     "iopub.execute_input": "2024-11-23T17:46:04.086065Z",
     "iopub.status.busy": "2024-11-23T17:46:04.085638Z",
     "iopub.status.idle": "2024-11-23T17:46:04.095394Z",
     "shell.execute_reply": "2024-11-23T17:46:04.094189Z"
    },
    "papermill": {
     "duration": 0.216166,
     "end_time": "2024-11-23T17:46:04.097533",
     "exception": false,
     "start_time": "2024-11-23T17:46:03.881367",
     "status": "completed"
    },
    "tags": []
   },
   "outputs": [
    {
     "name": "stdout",
     "output_type": "stream",
     "text": [
      "MSE: 0.0007415110629008684\n"
     ]
    }
   ],
   "source": [
    "from sklearn.metrics import mean_squared_error\n",
    "print(\"MSE:\", mean_squared_error(y_test, y_pred))\n"
   ]
  },
  {
   "cell_type": "code",
   "execution_count": null,
   "id": "3eb49052",
   "metadata": {
    "papermill": {
     "duration": 0.201398,
     "end_time": "2024-11-23T17:46:04.500423",
     "exception": false,
     "start_time": "2024-11-23T17:46:04.299025",
     "status": "completed"
    },
    "tags": []
   },
   "outputs": [],
   "source": []
  }
 ],
 "metadata": {
  "kaggle": {
   "accelerator": "none",
   "dataSources": [
    {
     "datasetId": 2573286,
     "sourceId": 4381269,
     "sourceType": "datasetVersion"
    }
   ],
   "dockerImageVersionId": 30786,
   "isGpuEnabled": false,
   "isInternetEnabled": true,
   "language": "python",
   "sourceType": "notebook"
  },
  "kernelspec": {
   "display_name": "Python 3",
   "language": "python",
   "name": "python3"
  },
  "language_info": {
   "codemirror_mode": {
    "name": "ipython",
    "version": 3
   },
   "file_extension": ".py",
   "mimetype": "text/x-python",
   "name": "python",
   "nbconvert_exporter": "python",
   "pygments_lexer": "ipython3",
   "version": "3.10.14"
  },
  "papermill": {
   "default_parameters": {},
   "duration": 232.30691,
   "end_time": "2024-11-23T17:46:06.426172",
   "environment_variables": {},
   "exception": null,
   "input_path": "__notebook__.ipynb",
   "output_path": "__notebook__.ipynb",
   "parameters": {},
   "start_time": "2024-11-23T17:42:14.119262",
   "version": "2.6.0"
  }
 },
 "nbformat": 4,
 "nbformat_minor": 5
}
